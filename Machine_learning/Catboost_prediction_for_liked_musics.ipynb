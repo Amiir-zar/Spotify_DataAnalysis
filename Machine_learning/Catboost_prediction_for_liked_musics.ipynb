{
 "cells": [
  {
   "cell_type": "code",
   "execution_count": 16,
   "metadata": {},
   "outputs": [],
   "source": [
    "import pandas as pd\n",
    "import seaborn as sns"
   ]
  },
  {
   "cell_type": "code",
   "execution_count": 7,
   "metadata": {},
   "outputs": [],
   "source": [
    "database = pd.read_csv(\"/Users/amirzar/Desktop/Spotify_data/Csv/tracks.csv\")\n",
    "Liked_songs = pd.read_csv(\n",
    "    '/Users/amirzar/Desktop/Spotify_data/Csv/merged_file.csv')\n"
   ]
  },
  {
   "cell_type": "code",
   "execution_count": 8,
   "metadata": {},
   "outputs": [
    {
     "data": {
      "text/html": [
       "<div>\n",
       "<style scoped>\n",
       "    .dataframe tbody tr th:only-of-type {\n",
       "        vertical-align: middle;\n",
       "    }\n",
       "\n",
       "    .dataframe tbody tr th {\n",
       "        vertical-align: top;\n",
       "    }\n",
       "\n",
       "    .dataframe thead th {\n",
       "        text-align: right;\n",
       "    }\n",
       "</style>\n",
       "<table border=\"1\" class=\"dataframe\">\n",
       "  <thead>\n",
       "    <tr style=\"text-align: right;\">\n",
       "      <th></th>\n",
       "      <th>id</th>\n",
       "      <th>name</th>\n",
       "      <th>popularity</th>\n",
       "      <th>duration_ms</th>\n",
       "      <th>explicit</th>\n",
       "      <th>artists_x</th>\n",
       "      <th>id_artists</th>\n",
       "      <th>release_date</th>\n",
       "      <th>danceability</th>\n",
       "      <th>energy</th>\n",
       "      <th>...</th>\n",
       "      <th>acousticness</th>\n",
       "      <th>instrumentalness</th>\n",
       "      <th>liveness</th>\n",
       "      <th>valence</th>\n",
       "      <th>tempo</th>\n",
       "      <th>time_signature</th>\n",
       "      <th>endTime</th>\n",
       "      <th>artists_y</th>\n",
       "      <th>msPlayed</th>\n",
       "      <th>repeated</th>\n",
       "    </tr>\n",
       "  </thead>\n",
       "  <tbody>\n",
       "    <tr>\n",
       "      <th>0</th>\n",
       "      <td>3U7xlkzHOQT2STYEtg7rPr</td>\n",
       "      <td>Jerusalem</td>\n",
       "      <td>47</td>\n",
       "      <td>469733</td>\n",
       "      <td>0</td>\n",
       "      <td>The Wailers', 'Alpha Blondy</td>\n",
       "      <td>['0jHCJWgwdcqysvbKWjXSI6', '41ekW4MXG59xJMXR8d...</td>\n",
       "      <td>1986</td>\n",
       "      <td>0.717</td>\n",
       "      <td>0.4460</td>\n",
       "      <td>...</td>\n",
       "      <td>0.42700</td>\n",
       "      <td>0.000055</td>\n",
       "      <td>0.1060</td>\n",
       "      <td>0.6930</td>\n",
       "      <td>131.070</td>\n",
       "      <td>4</td>\n",
       "      <td>2022-04-18 14:29</td>\n",
       "      <td>Anúna</td>\n",
       "      <td>319116</td>\n",
       "      <td>37</td>\n",
       "    </tr>\n",
       "    <tr>\n",
       "      <th>1</th>\n",
       "      <td>0bwhjxWZFtwllJIwh3E0Bk</td>\n",
       "      <td>La ballata dell'uomo in piu</td>\n",
       "      <td>35</td>\n",
       "      <td>214787</td>\n",
       "      <td>0</td>\n",
       "      <td>Peppino Gagliardi</td>\n",
       "      <td>['1kTBhbobT38Dg6tfbHPK91']</td>\n",
       "      <td>1995</td>\n",
       "      <td>0.497</td>\n",
       "      <td>0.1880</td>\n",
       "      <td>...</td>\n",
       "      <td>0.75500</td>\n",
       "      <td>0.000001</td>\n",
       "      <td>0.1270</td>\n",
       "      <td>0.5010</td>\n",
       "      <td>115.315</td>\n",
       "      <td>5</td>\n",
       "      <td>2022-06-20 06:09</td>\n",
       "      <td>Peppino Gagliardi</td>\n",
       "      <td>198766</td>\n",
       "      <td>28</td>\n",
       "    </tr>\n",
       "    <tr>\n",
       "      <th>2</th>\n",
       "      <td>2S7RApTsKT0CtYojYq2cKz</td>\n",
       "      <td>L'italiano</td>\n",
       "      <td>64</td>\n",
       "      <td>236547</td>\n",
       "      <td>0</td>\n",
       "      <td>Toto Cutugno</td>\n",
       "      <td>['6elIiwc8OyeqKxXe2rmPXZ']</td>\n",
       "      <td>1983-02-01</td>\n",
       "      <td>0.617</td>\n",
       "      <td>0.5190</td>\n",
       "      <td>...</td>\n",
       "      <td>0.29200</td>\n",
       "      <td>0.000000</td>\n",
       "      <td>0.4110</td>\n",
       "      <td>0.6920</td>\n",
       "      <td>121.350</td>\n",
       "      <td>4</td>\n",
       "      <td>2022-06-20 05:38</td>\n",
       "      <td>Toto Cutugno</td>\n",
       "      <td>236546</td>\n",
       "      <td>24</td>\n",
       "    </tr>\n",
       "    <tr>\n",
       "      <th>3</th>\n",
       "      <td>0P5Vhvmf68WqqFttv3S7KK</td>\n",
       "      <td>Bregovic: Ederlezi</td>\n",
       "      <td>37</td>\n",
       "      <td>347733</td>\n",
       "      <td>0</td>\n",
       "      <td>Goran Bregović', 'Nigel Kennedy', 'The Kroke Band</td>\n",
       "      <td>['491v9k5NTGBGanwqPNSkuS', '7AANfmLM36QqH6QsOQ...</td>\n",
       "      <td>2003-06-02</td>\n",
       "      <td>0.161</td>\n",
       "      <td>0.1530</td>\n",
       "      <td>...</td>\n",
       "      <td>0.96100</td>\n",
       "      <td>0.147000</td>\n",
       "      <td>0.1840</td>\n",
       "      <td>0.0378</td>\n",
       "      <td>79.068</td>\n",
       "      <td>1</td>\n",
       "      <td>2022-10-22 15:48</td>\n",
       "      <td>Goran Bregović</td>\n",
       "      <td>347733</td>\n",
       "      <td>24</td>\n",
       "    </tr>\n",
       "    <tr>\n",
       "      <th>4</th>\n",
       "      <td>4uafWYRA8dWpmhidUl4A1G</td>\n",
       "      <td>Ulysses' Gaze: 1. Ulysses' Theme</td>\n",
       "      <td>28</td>\n",
       "      <td>85133</td>\n",
       "      <td>0</td>\n",
       "      <td>Eleni Karaindrou', 'Kim Kashkashian', 'Lefteri...</td>\n",
       "      <td>['2ojmPypSGMyKaRvknyxKKP', '6ZGBjaZJPB8JHVBpHv...</td>\n",
       "      <td>1995-09-01</td>\n",
       "      <td>0.332</td>\n",
       "      <td>0.0475</td>\n",
       "      <td>...</td>\n",
       "      <td>0.91000</td>\n",
       "      <td>0.970000</td>\n",
       "      <td>0.0971</td>\n",
       "      <td>0.0500</td>\n",
       "      <td>134.292</td>\n",
       "      <td>4</td>\n",
       "      <td>2022-10-22 17:30</td>\n",
       "      <td>Eleni Karaindrou</td>\n",
       "      <td>85133</td>\n",
       "      <td>22</td>\n",
       "    </tr>\n",
       "    <tr>\n",
       "      <th>...</th>\n",
       "      <td>...</td>\n",
       "      <td>...</td>\n",
       "      <td>...</td>\n",
       "      <td>...</td>\n",
       "      <td>...</td>\n",
       "      <td>...</td>\n",
       "      <td>...</td>\n",
       "      <td>...</td>\n",
       "      <td>...</td>\n",
       "      <td>...</td>\n",
       "      <td>...</td>\n",
       "      <td>...</td>\n",
       "      <td>...</td>\n",
       "      <td>...</td>\n",
       "      <td>...</td>\n",
       "      <td>...</td>\n",
       "      <td>...</td>\n",
       "      <td>...</td>\n",
       "      <td>...</td>\n",
       "      <td>...</td>\n",
       "      <td>...</td>\n",
       "    </tr>\n",
       "    <tr>\n",
       "      <th>233</th>\n",
       "      <td>7d3Qjp1PWUwE0p0QWpmGM1</td>\n",
       "      <td>Michelle</td>\n",
       "      <td>0</td>\n",
       "      <td>126399</td>\n",
       "      <td>0</td>\n",
       "      <td>The New Merseysiders</td>\n",
       "      <td>['5oqAUfibbMIA08TufojASy']</td>\n",
       "      <td>2020-06-04</td>\n",
       "      <td>0.640</td>\n",
       "      <td>0.2140</td>\n",
       "      <td>...</td>\n",
       "      <td>0.91800</td>\n",
       "      <td>0.961000</td>\n",
       "      <td>0.0691</td>\n",
       "      <td>0.6290</td>\n",
       "      <td>61.749</td>\n",
       "      <td>4</td>\n",
       "      <td>2023-03-11 18:36</td>\n",
       "      <td>Anton Byers</td>\n",
       "      <td>212073</td>\n",
       "      <td>1</td>\n",
       "    </tr>\n",
       "    <tr>\n",
       "      <th>234</th>\n",
       "      <td>21D0muOMLK4P0jrsAYKLij</td>\n",
       "      <td>Long, Long Way from Home</td>\n",
       "      <td>47</td>\n",
       "      <td>172573</td>\n",
       "      <td>0</td>\n",
       "      <td>Foreigner</td>\n",
       "      <td>['6IRouO5mvvfcyxtPDKMYFN']</td>\n",
       "      <td>1977-03-08</td>\n",
       "      <td>0.621</td>\n",
       "      <td>0.8800</td>\n",
       "      <td>...</td>\n",
       "      <td>0.30200</td>\n",
       "      <td>0.000000</td>\n",
       "      <td>0.1700</td>\n",
       "      <td>0.5220</td>\n",
       "      <td>128.215</td>\n",
       "      <td>4</td>\n",
       "      <td>2022-12-24 13:15</td>\n",
       "      <td>Foreigner</td>\n",
       "      <td>1264</td>\n",
       "      <td>1</td>\n",
       "    </tr>\n",
       "    <tr>\n",
       "      <th>235</th>\n",
       "      <td>6JCSPI05AEJMBbJTIIXBOi</td>\n",
       "      <td>Starry Night</td>\n",
       "      <td>27</td>\n",
       "      <td>447720</td>\n",
       "      <td>0</td>\n",
       "      <td>Kabza De Small', 'DJ Maphorisa', 'TRESOR</td>\n",
       "      <td>['1bNjWBFWsAAzZSR59lRdpR', '0mMqD2uqwvCjFvlzo6...</td>\n",
       "      <td>2021-04-09</td>\n",
       "      <td>0.781</td>\n",
       "      <td>0.5230</td>\n",
       "      <td>...</td>\n",
       "      <td>0.00959</td>\n",
       "      <td>0.008620</td>\n",
       "      <td>0.1250</td>\n",
       "      <td>0.2170</td>\n",
       "      <td>111.996</td>\n",
       "      <td>4</td>\n",
       "      <td>2022-11-10 05:35</td>\n",
       "      <td>Café</td>\n",
       "      <td>118221</td>\n",
       "      <td>1</td>\n",
       "    </tr>\n",
       "    <tr>\n",
       "      <th>236</th>\n",
       "      <td>3uPkidnkvuQS8yI6Hz2zKo</td>\n",
       "      <td>Fireplace</td>\n",
       "      <td>14</td>\n",
       "      <td>158833</td>\n",
       "      <td>0</td>\n",
       "      <td>Sleepy Fish</td>\n",
       "      <td>['1IJe80moz409PtxW4llPFw']</td>\n",
       "      <td>2020-12-20</td>\n",
       "      <td>0.750</td>\n",
       "      <td>0.2460</td>\n",
       "      <td>...</td>\n",
       "      <td>0.91200</td>\n",
       "      <td>0.956000</td>\n",
       "      <td>0.0900</td>\n",
       "      <td>0.3170</td>\n",
       "      <td>68.087</td>\n",
       "      <td>4</td>\n",
       "      <td>2023-03-11 18:29</td>\n",
       "      <td>Carmelito</td>\n",
       "      <td>111500</td>\n",
       "      <td>1</td>\n",
       "    </tr>\n",
       "    <tr>\n",
       "      <th>237</th>\n",
       "      <td>5lpn9njMxesuPO25id0id0</td>\n",
       "      <td>New Home</td>\n",
       "      <td>35</td>\n",
       "      <td>234253</td>\n",
       "      <td>0</td>\n",
       "      <td>Fahrenheit', 'S.H.E</td>\n",
       "      <td>['12JKvbMl7cQqmtumTZTT3g', '2lWShxOL8iTlI0pmtV...</td>\n",
       "      <td>2008-01-04</td>\n",
       "      <td>0.662</td>\n",
       "      <td>0.8010</td>\n",
       "      <td>...</td>\n",
       "      <td>0.00230</td>\n",
       "      <td>0.000009</td>\n",
       "      <td>0.1570</td>\n",
       "      <td>0.3340</td>\n",
       "      <td>119.965</td>\n",
       "      <td>4</td>\n",
       "      <td>2023-03-03 19:21</td>\n",
       "      <td>Austin Farwell</td>\n",
       "      <td>126359</td>\n",
       "      <td>1</td>\n",
       "    </tr>\n",
       "  </tbody>\n",
       "</table>\n",
       "<p>238 rows × 24 columns</p>\n",
       "</div>"
      ],
      "text/plain": [
       "                         id                              name  popularity  \\\n",
       "0    3U7xlkzHOQT2STYEtg7rPr                         Jerusalem          47   \n",
       "1    0bwhjxWZFtwllJIwh3E0Bk       La ballata dell'uomo in piu          35   \n",
       "2    2S7RApTsKT0CtYojYq2cKz                        L'italiano          64   \n",
       "3    0P5Vhvmf68WqqFttv3S7KK                Bregovic: Ederlezi          37   \n",
       "4    4uafWYRA8dWpmhidUl4A1G  Ulysses' Gaze: 1. Ulysses' Theme          28   \n",
       "..                      ...                               ...         ...   \n",
       "233  7d3Qjp1PWUwE0p0QWpmGM1                          Michelle           0   \n",
       "234  21D0muOMLK4P0jrsAYKLij          Long, Long Way from Home          47   \n",
       "235  6JCSPI05AEJMBbJTIIXBOi                      Starry Night          27   \n",
       "236  3uPkidnkvuQS8yI6Hz2zKo                         Fireplace          14   \n",
       "237  5lpn9njMxesuPO25id0id0                          New Home          35   \n",
       "\n",
       "     duration_ms  explicit                                          artists_x  \\\n",
       "0         469733         0                        The Wailers', 'Alpha Blondy   \n",
       "1         214787         0                                  Peppino Gagliardi   \n",
       "2         236547         0                                       Toto Cutugno   \n",
       "3         347733         0  Goran Bregović', 'Nigel Kennedy', 'The Kroke Band   \n",
       "4          85133         0  Eleni Karaindrou', 'Kim Kashkashian', 'Lefteri...   \n",
       "..           ...       ...                                                ...   \n",
       "233       126399         0                               The New Merseysiders   \n",
       "234       172573         0                                          Foreigner   \n",
       "235       447720         0           Kabza De Small', 'DJ Maphorisa', 'TRESOR   \n",
       "236       158833         0                                        Sleepy Fish   \n",
       "237       234253         0                                Fahrenheit', 'S.H.E   \n",
       "\n",
       "                                            id_artists release_date  \\\n",
       "0    ['0jHCJWgwdcqysvbKWjXSI6', '41ekW4MXG59xJMXR8d...         1986   \n",
       "1                           ['1kTBhbobT38Dg6tfbHPK91']         1995   \n",
       "2                           ['6elIiwc8OyeqKxXe2rmPXZ']   1983-02-01   \n",
       "3    ['491v9k5NTGBGanwqPNSkuS', '7AANfmLM36QqH6QsOQ...   2003-06-02   \n",
       "4    ['2ojmPypSGMyKaRvknyxKKP', '6ZGBjaZJPB8JHVBpHv...   1995-09-01   \n",
       "..                                                 ...          ...   \n",
       "233                         ['5oqAUfibbMIA08TufojASy']   2020-06-04   \n",
       "234                         ['6IRouO5mvvfcyxtPDKMYFN']   1977-03-08   \n",
       "235  ['1bNjWBFWsAAzZSR59lRdpR', '0mMqD2uqwvCjFvlzo6...   2021-04-09   \n",
       "236                         ['1IJe80moz409PtxW4llPFw']   2020-12-20   \n",
       "237  ['12JKvbMl7cQqmtumTZTT3g', '2lWShxOL8iTlI0pmtV...   2008-01-04   \n",
       "\n",
       "     danceability  energy  ...  acousticness  instrumentalness  liveness  \\\n",
       "0           0.717  0.4460  ...       0.42700          0.000055    0.1060   \n",
       "1           0.497  0.1880  ...       0.75500          0.000001    0.1270   \n",
       "2           0.617  0.5190  ...       0.29200          0.000000    0.4110   \n",
       "3           0.161  0.1530  ...       0.96100          0.147000    0.1840   \n",
       "4           0.332  0.0475  ...       0.91000          0.970000    0.0971   \n",
       "..            ...     ...  ...           ...               ...       ...   \n",
       "233         0.640  0.2140  ...       0.91800          0.961000    0.0691   \n",
       "234         0.621  0.8800  ...       0.30200          0.000000    0.1700   \n",
       "235         0.781  0.5230  ...       0.00959          0.008620    0.1250   \n",
       "236         0.750  0.2460  ...       0.91200          0.956000    0.0900   \n",
       "237         0.662  0.8010  ...       0.00230          0.000009    0.1570   \n",
       "\n",
       "     valence    tempo  time_signature           endTime          artists_y  \\\n",
       "0     0.6930  131.070               4  2022-04-18 14:29              Anúna   \n",
       "1     0.5010  115.315               5  2022-06-20 06:09  Peppino Gagliardi   \n",
       "2     0.6920  121.350               4  2022-06-20 05:38       Toto Cutugno   \n",
       "3     0.0378   79.068               1  2022-10-22 15:48     Goran Bregović   \n",
       "4     0.0500  134.292               4  2022-10-22 17:30   Eleni Karaindrou   \n",
       "..       ...      ...             ...               ...                ...   \n",
       "233   0.6290   61.749               4  2023-03-11 18:36        Anton Byers   \n",
       "234   0.5220  128.215               4  2022-12-24 13:15          Foreigner   \n",
       "235   0.2170  111.996               4  2022-11-10 05:35               Café   \n",
       "236   0.3170   68.087               4  2023-03-11 18:29          Carmelito   \n",
       "237   0.3340  119.965               4  2023-03-03 19:21     Austin Farwell   \n",
       "\n",
       "     msPlayed  repeated  \n",
       "0      319116        37  \n",
       "1      198766        28  \n",
       "2      236546        24  \n",
       "3      347733        24  \n",
       "4       85133        22  \n",
       "..        ...       ...  \n",
       "233    212073         1  \n",
       "234      1264         1  \n",
       "235    118221         1  \n",
       "236    111500         1  \n",
       "237    126359         1  \n",
       "\n",
       "[238 rows x 24 columns]"
      ]
     },
     "execution_count": 8,
     "metadata": {},
     "output_type": "execute_result"
    }
   ],
   "source": [
    "# count the number of duplicates and add the count in front of each value\n",
    "Liked_songs['repeated'] = Liked_songs.groupby('id')['id'].transform('size')\n",
    "\n",
    "# drop the duplicates\n",
    "Liked_songs = Liked_songs.drop_duplicates(subset='id')\n",
    "\n",
    "# sort the values by count in descending order\n",
    "Liked_songs = Liked_songs.sort_values(by='repeated', ascending=False)\n",
    "\n",
    "# reset the index\n",
    "Liked_songs = Liked_songs.reset_index(drop=True)\n",
    "\n",
    "# display the final result\n",
    "Liked_songs\n"
   ]
  },
  {
   "cell_type": "code",
   "execution_count": 13,
   "metadata": {},
   "outputs": [],
   "source": [
    "## Adding The liked songs to the database as 1 (Liked) 0(not liked)\n",
    "\n",
    "liked_ids = set(Liked_songs['id'])\n",
    "database['liked'] = database['id'].isin(liked_ids).astype(int)"
   ]
  },
  {
   "cell_type": "code",
   "execution_count": 15,
   "metadata": {},
   "outputs": [
    {
     "data": {
      "text/plain": [
       "0    586434\n",
       "1       238\n",
       "Name: liked, dtype: int64"
      ]
     },
     "execution_count": 15,
     "metadata": {},
     "output_type": "execute_result"
    }
   ],
   "source": [
    "database['liked'].value_counts()"
   ]
  },
  {
   "attachments": {},
   "cell_type": "markdown",
   "metadata": {},
   "source": [
    "These Number are expected as the number of unique songs we heared was 238 ( we assume that each unique song I heared I liked it ) "
   ]
  },
  {
   "cell_type": "code",
   "execution_count": 20,
   "metadata": {},
   "outputs": [
    {
     "data": {
      "text/plain": [
       "<AxesSubplot: xlabel='liked', ylabel='count'>"
      ]
     },
     "execution_count": 20,
     "metadata": {},
     "output_type": "execute_result"
    },
    {
     "data": {
      "image/png": "[encoded data removed]",
      "text/plain": [
       "<Figure size 640x480 with 1 Axes>"
      ]
     },
     "metadata": {},
     "output_type": "display_data"
    }
   ],
   "source": [
    "sns.countplot(x = 'liked', data=database)"
   ]
  },
  {
   "cell_type": "code",
   "execution_count": 21,
   "metadata": {},
   "outputs": [
    {
     "data": {
      "text/plain": [
       "Index(['id', 'name', 'popularity', 'duration_ms', 'explicit', 'artists',\n",
       "       'id_artists', 'release_date', 'danceability', 'energy', 'key',\n",
       "       'loudness', 'mode', 'speechiness', 'acousticness', 'instrumentalness',\n",
       "       'liveness', 'valence', 'tempo', 'time_signature', 'liked'],\n",
       "      dtype='object')"
      ]
     },
     "execution_count": 21,
     "metadata": {},
     "output_type": "execute_result"
    }
   ],
   "source": [
    "database.columns"
   ]
  },
  {
   "cell_type": "code",
   "execution_count": 56,
   "metadata": {},
   "outputs": [
    {
     "data": {
      "text/plain": [
       "0         1\n",
       "1         1\n",
       "2         1\n",
       "3         1\n",
       "4         0\n",
       "         ..\n",
       "586667    0\n",
       "586668    1\n",
       "586669    0\n",
       "586670    1\n",
       "586671    1\n",
       "Name: mode, Length: 586672, dtype: int64"
      ]
     },
     "execution_count": 56,
     "metadata": {},
     "output_type": "execute_result"
    }
   ],
   "source": [
    "database['mode']\n"
   ]
  },
  {
   "cell_type": "code",
   "execution_count": 40,
   "metadata": {},
   "outputs": [],
   "source": [
    "from imblearn.over_sampling import RandomOverSampler\n",
    "X = database[['popularity', 'duration_ms', 'danceability', 'energy', 'key',\n",
    "       'loudness', 'mode', 'speechiness', 'acousticness', 'instrumentalness',\n",
    "       'liveness', 'valence', 'tempo']]\n",
    "\n",
    "y = database['liked']\n",
    "\n",
    "ros = RandomOverSampler()\n",
    "X_ros, y_ros = ros.fit_resample(X, y)\n"
   ]
  },
  {
   "cell_type": "code",
   "execution_count": 41,
   "metadata": {},
   "outputs": [],
   "source": [
    "import pandas as pd\n",
    "import numpy as np\n",
    "import tensorflow as tf\n",
    "from sklearn.preprocessing import StandardScaler\n"
   ]
  },
  {
   "cell_type": "code",
   "execution_count": 59,
   "metadata": {},
   "outputs": [],
   "source": [
    "from sklearn.model_selection import train_test_split\n",
    "X_train, X_test, y_train, y_test = train_test_split(X_ros, y_ros)"
   ]
  },
  {
   "cell_type": "code",
   "execution_count": 63,
   "metadata": {},
   "outputs": [],
   "source": [
    "from catboost import CatBoostClassifier\n",
    "model = CatBoostClassifier(iterations=100, learning_rate=0.1,\n",
    "                           depth=6, eval_metric='Accuracy', verbose=10)\n"
   ]
  },
  {
   "cell_type": "code",
   "execution_count": 64,
   "metadata": {},
   "outputs": [
    {
     "name": "stdout",
     "output_type": "stream",
     "text": [
      "0:\tlearn: 0.7768251\ttest: 0.7771071\tbest: 0.7771071 (0)\ttotal: 196ms\tremaining: 19.4s\n",
      "10:\tlearn: 0.8449215\ttest: 0.8441939\tbest: 0.8441939 (10)\ttotal: 1.18s\tremaining: 9.58s\n",
      "20:\tlearn: 0.8766738\ttest: 0.8767739\tbest: 0.8767739 (20)\ttotal: 2.04s\tremaining: 7.67s\n",
      "30:\tlearn: 0.8917934\ttest: 0.8918378\tbest: 0.8949822 (29)\ttotal: 3.02s\tremaining: 6.71s\n",
      "40:\tlearn: 0.9250794\ttest: 0.9245235\tbest: 0.9245235 (40)\ttotal: 3.83s\tremaining: 5.51s\n",
      "50:\tlearn: 0.9519059\ttest: 0.9512102\tbest: 0.9512102 (50)\ttotal: 4.69s\tremaining: 4.5s\n",
      "60:\tlearn: 0.9608697\ttest: 0.9604764\tbest: 0.9604764 (60)\ttotal: 5.51s\tremaining: 3.52s\n",
      "70:\tlearn: 0.9684807\ttest: 0.9682556\tbest: 0.9682556 (70)\ttotal: 6.3s\tremaining: 2.57s\n",
      "80:\tlearn: 0.9711420\ttest: 0.9712159\tbest: 0.9712159 (80)\ttotal: 7.12s\tremaining: 1.67s\n",
      "90:\tlearn: 0.9748571\ttest: 0.9749810\tbest: 0.9749810 (90)\ttotal: 7.96s\tremaining: 787ms\n",
      "99:\tlearn: 0.9774956\ttest: 0.9773888\tbest: 0.9773888 (99)\ttotal: 8.71s\tremaining: 0us\n",
      "\n",
      "bestTest = 0.9773887599\n",
      "bestIteration = 99\n",
      "\n"
     ]
    },
    {
     "data": {
      "text/plain": [
       "<catboost.core.CatBoostClassifier at 0x7fd574efefd0>"
      ]
     },
     "execution_count": 64,
     "metadata": {},
     "output_type": "execute_result"
    }
   ],
   "source": [
    "cat_col = ['mode']\n",
    "model.fit(X_train, y_train, cat_col, eval_set=(X_test, y_test))"
   ]
  },
  {
   "cell_type": "code",
   "execution_count": 66,
   "metadata": {},
   "outputs": [],
   "source": [
    "y_pred = model.predict(X_test)"
   ]
  },
  {
   "cell_type": "code",
   "execution_count": 67,
   "metadata": {},
   "outputs": [
    {
     "data": {
      "text/plain": [
       "array([[140081,   6630],\n",
       "       [     0, 146506]])"
      ]
     },
     "execution_count": 67,
     "metadata": {},
     "output_type": "execute_result"
    }
   ],
   "source": [
    "from sklearn.metrics import confusion_matrix\n",
    "cm = confusion_matrix(y_true=y_test, y_pred=y_pred)\n",
    "cm\n"
   ]
  },
  {
   "cell_type": "code",
   "execution_count": 68,
   "metadata": {},
   "outputs": [
    {
     "name": "stdout",
     "output_type": "stream",
     "text": [
      "              precision    recall  f1-score   support\n",
      "\n",
      "           0       1.00      0.95      0.98    146711\n",
      "           1       0.96      1.00      0.98    146506\n",
      "\n",
      "    accuracy                           0.98    293217\n",
      "   macro avg       0.98      0.98      0.98    293217\n",
      "weighted avg       0.98      0.98      0.98    293217\n",
      "\n"
     ]
    }
   ],
   "source": [
    "from sklearn.metrics import classification_report\n",
    "print(classification_report(y_true=y_test, y_pred=y_pred))\n"
   ]
  }
 ],
 "metadata": {
  "kernelspec": {
   "display_name": "base",
   "language": "python",
   "name": "python3"
  },
  "language_info": {
   "codemirror_mode": {
    "name": "ipython",
    "version": 3
   },
   "file_extension": ".py",
   "mimetype": "text/x-python",
   "name": "python",
   "nbconvert_exporter": "python",
   "pygments_lexer": "ipython3",
   "version": "3.9.15"
  },
  "orig_nbformat": 4
 },
 "nbformat": 4,
 "nbformat_minor": 2
}
